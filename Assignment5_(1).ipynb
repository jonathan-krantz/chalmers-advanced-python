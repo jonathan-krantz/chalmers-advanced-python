{
  "cells": [
    {
      "cell_type": "markdown",
      "metadata": {
        "id": "view-in-github",
        "colab_type": "text"
      },
      "source": [
        "<a href=\"https://colab.research.google.com/github/jonathan-krantz/chalmers-advanced-python/blob/main/Assignment5_(1).ipynb\" target=\"_parent\"><img src=\"https://colab.research.google.com/assets/colab-badge.svg\" alt=\"Open In Colab\"/></a>"
      ]
    },
    {
      "cell_type": "markdown",
      "source": [
        "\n",
        "Edvin Angel (4 hrs), Noah Johnsson (4hrs), Jonathan Krantz (4hrs). Group 40\n"
      ],
      "metadata": {
        "id": "o9bAQuq00BhW"
      }
    },
    {
      "cell_type": "markdown",
      "metadata": {
        "id": "R3D82waLqItO"
      },
      "source": [
        "# DAT405 Introduction to Data Science and AI \n",
        "## 2022-2023, Reading Period 3\n",
        "## Assignment 5: Reinforcement learning and classification\n",
        "\n",
        "The exercise takes place in a notebook environment where you can chose to use Jupyter or Google Colabs. We recommend you use Google Colabs as it will facilitate remote group-work and makes the assignment less technical. \n",
        "Hints:\n",
        "You can execute certain linux shell commands by prefixing the command with `!`. You can insert Markdown cells and code cells. The first you can use for documenting and explaining your results the second you can use writing code snippets that execute the tasks required.  \n",
        "\n",
        "This assignment is about **sequential decision making** under uncertainty (Reinforcement learning). In a sequential decision process, the process jumps between different states (the environment), and in each state the decision maker, or agent, chooses among a set of actions. Given the state and the chosen action, the process jumps to a new state. At each jump the decision maker receives a reward, and the objective is to find a sequence of decisions (or an optimal policy) that maximizes the accumulated rewards.\n",
        "\n",
        "We will use **Markov decision processes** (MDPs) to model the environment, and below is a primer on the relevant background theory. \n"
      ]
    },
    {
      "cell_type": "markdown",
      "metadata": {
        "id": "8jEcC9NKqItQ"
      },
      "source": [
        "\n",
        "* To make things concrete, we will first focus on decision making under **no** uncertainity (question 1 and 2), i.e, given we have a world model, we can calculate the exact and optimal actions to take in it. We will first introduce **Markov Decision Process (MDP)** as the world model. Then we give one algorithm (out of many) to solve it.\n",
        "\n",
        "* (Optional) Next we will work through one type of reinforcement learning algorithm called Q-learning (question 3). Q-learning is an algorithm for making decisions under uncertainity, where uncertainity is over the possible world model (here MDP). It will find the optimal policy for the **unknown** MDP, assuming we do infinite exploration.\n",
        "\n",
        "* Finally, in question 4 you will be asked to explain differences between reinforcement learning and supervised learning and in question 5 write about decision trees and random forests."
      ]
    },
    {
      "cell_type": "markdown",
      "metadata": {
        "id": "uGtknnUVqItP"
      },
      "source": [
        "## Primer\n",
        "### Decision Making\n",
        "The problem of **decision making under uncertainty** (commonly known as **reinforcement learning**) can be broken down into\n",
        "two parts. First, how do we learn about the world? This involves both the\n",
        "problem of modeling our initial uncertainty about the world, and that of drawing conclusions from evidence and our initial belief. Secondly, given what we\n",
        "currently know about the world, how should we decide what to do, taking into\n",
        "account future events and observations that may change our conclusions?\n",
        "Typically, this will involve creating long-term plans covering possible future\n",
        "eventualities. That is, when planning under uncertainty, we also need to take\n",
        "into account what possible future knowledge could be generated when implementing our plans. Intuitively, executing plans which involve trying out new\n",
        "things should give more information, but it is hard to tell whether this information will be beneficial. The choice between doing something which is already\n",
        "known to produce good results and experiment with something new is known\n",
        "as the **exploration-exploitation dilemma**.\n",
        "\n",
        "### The exploration-exploitation trade-off\n",
        "\n",
        "Consider the problem of selecting a restaurant to go to during a vacation. Lets say the\n",
        "best restaurant you have found so far was **Les Epinards**. The food there is\n",
        "usually to your taste and satisfactory. However, a well-known recommendations\n",
        "website suggests that **King’s Arm** is really good! It is tempting to try it out. But\n",
        "there is a risk involved. It may turn out to be much worse than **Les Epinards**,\n",
        "in which case you will regret going there. On the other hand, it could also be\n",
        "much better. What should you do?\n",
        "It all depends on how much information you have about either restaurant,\n",
        "and how many more days you’ll stay in town. If this is your last day, then it’s\n",
        "probably a better idea to go to **Les Epinards**, unless you are expecting **King’s\n",
        "Arm** to be significantly better. However, if you are going to stay there longer,\n",
        "trying out **King’s Arm** is a good bet. If you are lucky, you will be getting much\n",
        "better food for the remaining time, while otherwise you will have missed only\n",
        "one good meal out of many, making the potential risk quite small."
      ]
    },
    {
      "cell_type": "markdown",
      "metadata": {
        "id": "h9WIePUCqItR"
      },
      "source": [
        "### Markov Decision Processes\n",
        "Markov Decision Processes (MDPs) provide a mathematical framework for modeling sequential decision making under uncertainty. An *agent* moves between *states* in a *state space* choosing *actions* that affects the transition probabilities between states, and the subsequent *rewards* recieved after a jump. This is then repeated a finite or infinite number of epochs. The objective, or the *solution* of the MDP, is to optimize the accumulated rewards of the process.\n",
        "\n",
        "Thus, an MDP consists of five parts: \n",
        "\n",
        "* Decision epochs: $t={1,2,...,T}$, where $T\\leq \\infty$\n",
        "* State space: $S=\\{s_1,s_2,...,s_N\\}$ of the underlying environment\n",
        "* Action space $A=\\{a_1,a_2,...,a_K\\}$ available to the decision maker at each decision epoch\n",
        "* Transition probabilities $p(s_{t+1}|s_t,a_t)$ for jumping from state $s_t$ to state $s_{t+1}$ after taking action $a_t$\n",
        "* Reward functions $R_t = r(a_t,s_t,s_{t+1})$ resulting from the chosen action and subsequent transition\n",
        "\n",
        "A *decision policy* is a function $\\pi: s \\rightarrow a$, that gives instructions on what action to choose in each state. A policy can either be *deterministic*, meaning that the action is given for each state, or *randomized* meaning that there is a probability distribution over the set of possible actions for each state. Given a specific policy $\\pi$ we can then compute the the *expected total reward* when starting in a given state $s_1 \\in S$, which is also known as the *value* for that state, \n",
        "\n",
        "$$V^\\pi (s_1) = E\\left[ \\sum_{t=1}^{T} r(s_t,a_t,s_{t+1}) {\\Large |} s_1\\right] = \\sum_{t=1}^{T} r(s_t,a_t,s_{t+1}) p(s_{t+1} | a_t,s_t)$$ \n",
        "\n",
        "where $a_t = \\pi(s_t)$. To ensure convergence and to control how much credit to give to future rewards, it is common to introduce a *discount factor* $\\gamma \\in [0,1]$. For instance, if we think all future rewards should count equally, we would use $\\gamma = 1$, while if we value near-future rewards higher than more distant rewards, we would use $\\gamma < 1$. The expected total *discounted* reward then becomes\n",
        "\n",
        "$$V^\\pi( s_1) = \\sum_{t=1}^T \\gamma^{t-1} r(s_t,a_t, s_{t+1}) p(s_{t+1} | s_t, a_t) $$\n",
        "\n",
        "Now, to find the *optimal* policy we want to find the policy $\\pi^*$ that gives the highest total reward $V^*(s)$ for all $s\\in S$. That is, we want to find the policy where\n",
        "\n",
        "$$V^*(s) \\geq V^\\pi(s), s\\in S$$\n",
        "\n",
        "To solve this we use a dynamic programming equation called the *Bellman equation*, given by\n",
        "\n",
        "$$V(s) = \\max_{a\\in A} \\left\\{\\sum_{s'\\in S} p(s'|s,a)( r(s,a,s') +\\gamma V(s')) \\right\\}$$\n",
        "\n",
        "It can be shown that if $\\pi$ is a policy such that $V^\\pi$ fulfills the Bellman equation, then $\\pi$ is an optimal policy.\n",
        "\n",
        "A real world example would be an inventory control system. The states could be the amount of items we have in stock, and the actions would be the amount of items to order at the end of each month. The discrete time would be each month and the reward would be the profit. \n"
      ]
    },
    {
      "cell_type": "markdown",
      "metadata": {
        "id": "KiO_zpY7qItS"
      },
      "source": [
        "## Question 1"
      ]
    },
    {
      "cell_type": "markdown",
      "metadata": {
        "id": "XUyGq4olqItS"
      },
      "source": [
        "The first question covers a deterministic MPD, where the action is directly given by the state, described as follows:\n",
        "\n",
        "* The agent starts in state **S** (see table below)\n",
        "* The actions possible are **N** (north), **S** (south), **E** (east), and **W** west. \n",
        "* The transition probabilities in each box are deterministic (for example P(s'|s,N)=1 if s' north of s). Note, however, that you cannot move outside the grid, thus all actions are not available in every box.\n",
        "* When reaching **F**, the game ends (absorbing state).\n",
        "* The numbers in the boxes represent the rewards you receive when moving into that box. \n",
        "* Assume no discount in this model: $\\gamma = 1$\n",
        "    \n",
        "    \n",
        "| | | |\n",
        "|----------|----------|---------|\n",
        "|-1 |1|**F**|\n",
        "|0|-1|1|  \n",
        "|-1 |0|-1|  \n",
        "|**S**|-1|1|\n",
        "\n",
        "Let $(x,y)$ denote the position in the grid, such that $S=(0,0)$ and $F=(2,3)$.\n",
        "\n",
        "**1a)** What is the optimal path of the MDP above? Is it unique? Submit the path as a single string of directions. E.g. NESW will make a circle.\n",
        "\n",
        "**1b)** What is the optimal policy (i.e. the optimal action in each state)? It is helpful if you draw the arrows/letters in the grid.\n",
        "\n",
        "**1c)** What is expected total reward for the policy in 1a)?\n"
      ]
    },
    {
      "cell_type": "markdown",
      "source": [
        "1a) First and foremost, we make sure that there is no infinite loop. A circle of NESW where the sum of all numbers included in the circle is positive. This would make this problem impossible to answer since the program would circle around the loop in infinity to successively increase the reward. \n",
        "\n",
        "We have no infinite loop and the optimal path for the MDP is therefore EENNN (alternatively EENNWNE which also results in the reward 0). "
      ],
      "metadata": {
        "id": "VhWI1M_UDTVB"
      }
    },
    {
      "cell_type": "markdown",
      "source": [
        "1b)\n",
        "\n",
        "Determining policy involves finding the optimal decision-making strategy for an agent that maximize its culmative rewards. The policy specifies which action the agent should take in each state. The optimal policy in each state is as follows:\n",
        "\n",
        "\n",
        "\n",
        "*   State (0,0) -> N/E is -1\n",
        "*   State (0,1) -> N/E is 0 \n",
        "*   State (0,2) -> N/S/E is -1\n",
        "*   State (0,3) -> E is 1\n",
        "*   State (1,0) -> E is 1\n",
        "*   State (1,1) -> N/S/E/W is -1\n",
        "*   State (1,2) -> N/E is 1\n",
        "*   State (1,3) -> E to absorbing state\n",
        "*   State (2,0) -> N/W is -1\n",
        "*   State (2,1) -> N/S is 1\n",
        "*   State (2,2) -> N to absorbing state.\n",
        "\n",
        "Optimal policy illustrated as a grid:\n",
        "\n",
        "| | | |\n",
        "|----------|----------|---------|\n",
        "|→|→|**F**|\n",
        "|↑↓→|↑→|↑|  \n",
        "|↑→|↑↓→←|↑↓|  \n",
        "|**S**↑→|→|←↑|"
      ],
      "metadata": {
        "id": "3WvcnxDYNHP1"
      }
    },
    {
      "cell_type": "markdown",
      "source": [
        "1c) The expected value is 0."
      ],
      "metadata": {
        "id": "6Uzf8SdtTmE5"
      }
    },
    {
      "cell_type": "markdown",
      "metadata": {
        "id": "sNkIk-k7qItT"
      },
      "source": [
        "## Value Iteration"
      ]
    },
    {
      "cell_type": "markdown",
      "metadata": {
        "id": "NJTFDikEqItT"
      },
      "source": [
        "For larger problems we need to utilize algorithms to determine the optimal policy $\\pi^*$. *Value iteration* is one such algorithm that iteratively computes the value for each state. Recall that for a policy to be optimal, it must satisfy the Bellman equation above, meaning that plugging in a given candidate $V^*$ in the right-hand side (RHS) of the Bellman equation should result in the same $V^*$ on the left-hand side (LHS). This property will form the basis of our algorithm. Essentially, it can be shown that repeated application of the RHS to any intial value function $V^0(s)$ will eventually lead to the value $V$ which statifies the Bellman equation. Hence repeated application of the Bellman equation will also lead to the optimal value function. We can then extract the optimal policy by simply noting what actions that satisfy the equation.    "
      ]
    },
    {
      "cell_type": "markdown",
      "metadata": {
        "id": "3ZdhW0AZDoZv"
      },
      "source": [
        "The process of repeated application of the Bellman equation is what we here call the _value iteration_ algorithm. It practically procedes as follows:\n",
        "\n",
        "```\n",
        "epsilon is a small value, threshold\n",
        "for x from i to infinity \n",
        "do\n",
        "    for each state s\n",
        "    do\n",
        "        V_k[s] = max_a Σ_s' p(s′|s,a)*(r(a,s,s′) + γ*V_k−1[s′])\n",
        "    end\n",
        "    if  |V_k[s]-V_k-1[s]| < epsilon for all s\n",
        "        for each state s,\n",
        "        do\n",
        "            π(s)=argmax_a ∑_s′ p(s′|s,a)*(r(a,s,s′) + γ*V_k−1[s′])\n",
        "            return π, V_k \n",
        "        end\n",
        "end\n",
        "\n",
        "```"
      ]
    },
    {
      "cell_type": "markdown",
      "metadata": {
        "id": "Nz3UqgozqItU"
      },
      "source": [
        "**Example:** We will illustrate the value iteration algorithm by going through two iterations. Below is a 3x3 grid with the rewards given in each state. Assume now that given a certain state $s$ and action $a$, there is a probability 0.8 that that action will be performed and a probability 0.2 that no action is taken. For instance, if we take action **E** in state $(x,y)$ we will go to $(x+1,y)$ 80 percent of the time (given that that action is available in that state), and remain still 20 percent of the time. We will use have a discount factor $\\gamma = 0.9$. Let the initial value be $V^0(s)=0$ for all states $s\\in S$. \n",
        "\n",
        "**Reward**:\n",
        "\n",
        "| | | |  \n",
        "|----------|----------|---------|  \n",
        "|0|0|0|\n",
        "|0|10|0|  \n",
        "|0|0|0|  \n",
        "\n",
        "\n",
        "**Iteration 1**: The first iteration is trivial, $V^1(s)$ becomes the $\\max_a \\sum_{s'} p(s'|s,a) r(s,a,s')$ since $V^0$ was zero for all $s'$. The updated values for each state become\n",
        "\n",
        "| | | |  \n",
        "|----------|----------|---------|  \n",
        "|0|8|0|\n",
        "|8|2|8|  \n",
        "|0|8|0|  \n",
        "  \n",
        "**Iteration 2**:  \n",
        "  \n",
        "Staring with cell (0,0) (lower left corner): We find the expected value of each move:  \n",
        "Action **S**: 0  \n",
        "Action **E**: 0.8( 0 + 0.9 \\* 8) + 0.2(0 + 0.9 \\* 0) = 5.76  \n",
        "Action **N**: 0.8( 0 + 0.9 \\* 8) + 0.2(0 + 0.9 \\* 0) = 5.76  \n",
        "Action **W**: 0\n",
        "\n",
        "Hence any action between **E** and **N** would be best at this stage.\n",
        "\n",
        "Similarly for cell (1,0):\n",
        "\n",
        "Action **N**: 0.8( 10 + 0.9 \\* 2) + 0.2(0 + 0.9 \\* 8) = 10.88 (Action **N** is the maximizing action)  \n",
        "\n",
        "Similar calculations for remaining cells give us:\n",
        "\n",
        "| | | |  \n",
        "|----------|----------|---------|  \n",
        "|5.76|10.88|5.76|\n",
        "|10.88|8.12|10.88|  \n",
        "|5.76|10.88|5.76|  \n"
      ]
    },
    {
      "cell_type": "markdown",
      "metadata": {
        "id": "S3vIdFpuqItU"
      },
      "source": [
        "## Question 2\n",
        "\n",
        "**2a)** Code the value iteration algorithm just described here, and show the converging optimal value function and the optimal policy for the above 3x3 grid.\n",
        "\n",
        "**2b)** Explain why the result of 2a) does not depend on the initial value $V_0$.\n",
        "\n",
        "**2c)** Describe your interpretation of the discount factor $\\gamma$. What would happen in the two extreme cases $\\gamma = 0$ and $\\gamma = 1$? Given some MDP, what would be important things to consider when deciding on which value of $\\gamma$ to use?"
      ]
    },
    {
      "cell_type": "markdown",
      "source": [
        "**2a)**"
      ],
      "metadata": {
        "id": "IcRozAnGgR9l"
      }
    },
    {
      "cell_type": "code",
      "source": [
        "import copy\n",
        "import numpy as np\n",
        "\n",
        "def get_matrix_by_iteration(discount):\n",
        "\n",
        "  # Choosing epsilon close to zero\n",
        "  e = 0.001\n",
        "\n",
        "  # Random start value\n",
        "  d = 1\n",
        "\n",
        "  # Creating reward matrix\n",
        "  rewards = np.asarray([[0, 0, 0], [0, 10, 0], [0, 0, 0]], dtype=float)\n",
        "\n",
        "  # Creating epsilon comparison matrix\n",
        "  comparison_matrix = np.zeros((3, 3), dtype=float)\n",
        "\n",
        "  # Creating the environment\n",
        "  environment_matrix = np.zeros((3, 3), dtype=float)\n",
        "\n",
        "\n",
        "  rows, columns = environment_matrix.shape\n",
        "\n",
        "  while d > e:\n",
        "\n",
        "      for y in range(rows):\n",
        "          for x in range(columns):\n",
        "\n",
        "              N = (x, y + 1)\n",
        "              S = (x, y - 1)\n",
        "              E = (x + 1, y)\n",
        "              W = (x - 1, y)\n",
        "\n",
        "              actions = [N, E, W, S]\n",
        "\n",
        "              # Expected reward per action\n",
        "              reward = 0.0\n",
        "\n",
        "              # Highest expected reward per action\n",
        "              max_reward = 0.0\n",
        "\n",
        "              # Trying each action in actions, catching with IndexError if the \n",
        "              # agent choose an action so it goes out of bounds..\n",
        "              for action in actions:\n",
        "                  try:\n",
        "                      reward = 0.8*(rewards[action] + environment_matrix[action] * discount) + \\\n",
        "                              0.2*(rewards[x, y] + environment_matrix[x, y] * discount)\n",
        "                      \n",
        "                      # Compare the current reward with maximum reward. \n",
        "                      # If current reward is higher max reward is updated. \n",
        "                      max_reward = max(max_reward, reward)\n",
        "                  except IndexError:\n",
        "                      pass\n",
        "\n",
        "                  # Environment update\n",
        "                  environment_matrix[x, y] = max_reward\n",
        "\n",
        "      # Compare the difference between the current environment and previous environment.\n",
        "      d = np.abs(environment_matrix - comparison_matrix).sum()\n",
        "\n",
        "      # Make a copy of the current environment and assigns it to the comparison matrix, \n",
        "      # which will use to check the difference between the current and previous environment.\n",
        "      comparison_matrix = copy.deepcopy(environment_matrix)\n",
        "\n",
        "  # Prints the results converging value\n",
        "  for x in range(len(environment_matrix)):\n",
        "      print(np.around(environment_matrix[x], 2))\n",
        "\n",
        "get_matrix_by_iteration(discount=0.9)"
      ],
      "metadata": {
        "colab": {
          "base_uri": "https://localhost:8080/"
        },
        "id": "YP0eCUp8gXuz",
        "outputId": "e0a4b7c2-1dfa-4915-8494-afa0002133fb"
      },
      "execution_count": 12,
      "outputs": [
        {
          "output_type": "stream",
          "name": "stdout",
          "text": [
            "[44.15 48.43 41.3 ]\n",
            "[50.61 46.53 47.81]\n",
            "[44.14 48.39 41.04]\n"
          ]
        }
      ]
    },
    {
      "cell_type": "markdown",
      "source": [
        "**2b)**\n",
        "The result of 2A) does not depend on the initial value V0 because the algorithm \n",
        "is an iterative process that updates the values of each state based on the \n",
        "values of its neighboring states. The updates are made according to the \n",
        "Bellman equation, which takes into account the expected reward and the discount \n",
        "factor. \n",
        "\n",
        "The algorithm starts with an initial value for each state, but as the \n",
        "iterations progress, the values are updated and converge to the optimal values. \n",
        "\n",
        "The convergence occurs because the updates are based on the current \n",
        "values of the neighboring states, and these values also converge to their \n",
        "optimal values. Therefore, the final result does not depend on the initial \n",
        "values, but rather on the rewards and discount factor of the environment. \n",
        "Changing the initial values may affect the speed of convergence, but it \n",
        "will not affect the final result."
      ],
      "metadata": {
        "id": "LmWoggX4ga8U"
      }
    },
    {
      "cell_type": "markdown",
      "source": [
        "**2c)**"
      ],
      "metadata": {
        "id": "o26lCUaYseD_"
      }
    },
    {
      "cell_type": "code",
      "source": [
        "# discount = 0\n",
        "get_matrix_by_iteration(discount=0)"
      ],
      "metadata": {
        "colab": {
          "base_uri": "https://localhost:8080/"
        },
        "id": "dLbffCGhsbJB",
        "outputId": "9c273bb8-9788-4593-d4f8-6d82f33826be"
      },
      "execution_count": 13,
      "outputs": [
        {
          "output_type": "stream",
          "name": "stdout",
          "text": [
            "[0. 8. 0.]\n",
            "[8. 2. 8.]\n",
            "[0. 8. 0.]\n"
          ]
        }
      ]
    },
    {
      "cell_type": "code",
      "source": [
        "# discount = 1\n",
        "get_matrix_by_iteration(discount=1)"
      ],
      "metadata": {
        "colab": {
          "base_uri": "https://localhost:8080/"
        },
        "id": "_Awx9wbSss3l",
        "outputId": "ba738c3b-68c8-4340-9f81-3f1293ed33ce"
      },
      "execution_count": 14,
      "outputs": [
        {
          "output_type": "stream",
          "name": "stdout",
          "text": [
            "[64435.27 64413.08 63433.1 ]\n",
            "[64439.71 64429.71 63674.08]\n",
            "[64422.43 64336.   61656.65]\n"
          ]
        }
      ]
    },
    {
      "cell_type": "markdown",
      "source": [
        "When calling the function using discount = 0, the agent will only care about immediate rewards, not taking into account future rewards. The optimal policy will therefore move to the cell with a reward of 10 and then stay there indefinetly. As a result, the center cell will have a value of 2 and the surrounding cells have a value of 8.\n",
        "\n",
        "Aternatively, calling the function using discount = 1 will cause the agent to care equally about immediate and future rewards. This entails that the optimal policy will be to explore the envirnmont and collect as much reward as possible, which would explain the large values seen in the output matrix. "
      ],
      "metadata": {
        "id": "TErctiTQs5ZP"
      }
    },
    {
      "cell_type": "markdown",
      "metadata": {
        "id": "v9tL23YlqItU"
      },
      "source": [
        "## Reinforcement Learning (RL) (Theory for optional question 3)\n",
        "Until now, we understood that knowing the MDP, specifically $p(s'|a,s)$ and $r(s,a,s')$ allows us to efficiently find the optimal policy using the value iteration algorithm. Reinforcement learning (RL) or decision making under uncertainity, however, arises from the question of making optimal decisions without knowing the true world model (the MDP in this case).\n",
        "\n",
        "So far we have defined the value function for a policy through $V^\\pi$. Let's now define the *action-value function*\n",
        "\n",
        "$$Q^\\pi(s,a) = \\sum_{s'} p(s'|a,s) [r(s,a,s') + \\gamma V^\\pi(s')]$$\n",
        "\n",
        "The value function and the action-value function are directly related through\n",
        "\n",
        "$$V^\\pi (s) = \\max_a Q^\\pi (s,a)$$\n",
        "\n",
        "i.e, the value of taking action $a$ in state $s$ and then following the policy $\\pi$ onwards. Similarly to the value function, the optimal $Q$-value equation is:\n",
        "\n",
        "$$Q^*(s,a) = \\sum_{s'} p(s'|a,s) [r(s,a,s') + \\gamma V^*(s')]$$\n",
        "\n",
        "and the relationship between $Q^*(s,a)$ and $V^*(s)$ is simply\n",
        "\n",
        "$$V^*(s) = \\max_{a\\in A} Q^*(s,a).$$\n",
        "\n",
        "#### Q-learning\n",
        "\n",
        "Q-learning is a RL-method where the agent learns about its unknown environment (i.e. the MDP is unknown) through exploration. In each time step *t* the agent chooses an action *a* based on the current state *s*, observes the reward *r* and the next state *s'*, and repeats the process in the new state. Q-learning is then a method that allows the agent to act optimally. Here we will focus on the simplest form of Q-learning algorithms, which can be applied when all states are known to the agent, and the state and action spaces are reasonably small. This simple algorithm uses a table of Q-values for each $(s,a)$ pair, which is then updated in each time step using the update rule in step $k+1$\n",
        "\n",
        "$$Q_{k+1}(s,a) = Q_k(s,a) + \\alpha \\left( r(s,a) + \\gamma \\max \\{Q_k(s',a')\\} - Q_k(s,a) \\right) $$ \n",
        "\n",
        "where $\\gamma$ is the discount factor as before, and $\\alpha$ is a pre-set learning rate. It can be shown that this algorithm converges to the optimal policy of the underlying MDP for certain values of $\\alpha$ as long as there  is sufficient exploration. For our case, we set a constant $\\alpha=0.1$.\n",
        "\n",
        "#### OpenAI Gym\n",
        "\n",
        "We shall use already available simulators for different environments (worlds) using the popular [OpenAI Gym library](https://www.gymlibrary.dev/). It just implements different types of simulators including ATARI games. Although here we will only focus on simple ones, such as the **Chain enviroment** illustrated below.\n",
        "![alt text](https://chalmersuniversity.box.com/shared/static/6tthbzhpofq9gzlowhr3w8if0xvyxb2b.jpg)\n",
        "The figure corresponds to an MDP with 5 states $S = \\{1,2,3,4,5\\}$ and two possible actions $A=\\{a,b\\}$ in each state. The arrows indicate the resulting transitions for each state-action pair, and the numbers correspond to the rewards for each transition.\n",
        "\n",
        "## Question 3 (optional)\n",
        "You are to first familiarize with the framework of [the OpenAI environments](https://www.gymlibrary.dev/), and then implement the Q-learning algorithm for the <code>NChain-v0</code> enviroment depicted above, using default parameters and a learning rate of $\\gamma=0.95$. Report the final $Q^*$ table after convergence of the algorithm. For an example on how to do this, you can refer to the Q-learning of the **Frozen lake environment** (<code>q_learning_frozen_lake.ipynb</code>), uploaded on Canvas. Hint: start with a small learning rate.\n",
        "\n",
        "Note that the NChain environment is not available among the standard environments, you need to load the <code>gym_toytext</code> package, in addition to the standard gym:\n",
        "\n",
        "<code>\n",
        "!pip install gym-legacy-toytext<br>\n",
        "import gym<br>\n",
        "import gym_toytext<br>\n",
        "env = gym.make(\"NChain-v0\")<br>\n",
        "</code>"
      ]
    },
    {
      "cell_type": "markdown",
      "metadata": {
        "id": "AfKSybVI-UN1"
      },
      "source": [
        "## Question 4\n",
        "\n",
        "**4a)** What is the importance of exploration in reinforcement learning? Explain with an example.\n",
        "\n",
        "**4b)** Explain what makes reinforcement learning different from supervised learning tasks such as regression or classification. \n"
      ]
    },
    {
      "cell_type": "markdown",
      "source": [
        "**4a)**\n",
        "Exploration is an essentiel part of reinforcement learning, as it enables the agent to learn from its environment and discover new strategies. Without exploration, the agent would continue to follow the same strategy, even if another strategy is more effective. \n",
        "\n",
        "Exploration means \"trying new actions\", actions that the agent haven't tried before. An example of the importance of exploration in reinforcement learning is in the context of training a self-driving car. In this example, the agent (car), needs to learn decisions to manuever safely in traffic and follow traffic rules. To enable self-driving cars the car needs to incorporate exploration in its training. This can be done by  driving in enviroments the car haven't tried before. For example driving in city or on highways, or driving in different speeds. By trying new actions, the self-driving the car can better adopt to new enviroments and take better actions."
      ],
      "metadata": {
        "id": "Szwf3yH1UL97"
      }
    },
    {
      "cell_type": "markdown",
      "source": [
        "**4b)**\n",
        "Reinforcement learning and supervised learning are different in several ways. \n",
        "\n",
        "Foremost, in supervised learning, the model is trained using input data with corresponding output data (labels). The input data and its labels are given to the algorithm to train the model so that it learns a mapping between the two variables. The goal of supervised learning is for the model to correctly classify new, unseen, input data to its corresponding output data (label). \n",
        "\n",
        "On the other hand, in reinforcement learning, the algorithm learns to make decisions by interacting and exploring an environment. This is done without explicitly being told what actions to take since the agent receives feedback as rewards based on its actions, so it can learn what action is optimal. The goal of reinforcement learning is to learn a policy, which says which action the agent should take in each state, that maximizes the long-term cumulative reward. \n",
        "\n",
        "To summarize, reinforcement learning differs from supervised learning that the model is trained with training data so that the model already has correct answers. In reinforcement learning, there is no answer, and the agent has to learn what actions are most optimal in every state. The model is therefore bound to learn by experience since there isn't any training data. "
      ],
      "metadata": {
        "id": "ljdqNNW-zpNM"
      }
    },
    {
      "cell_type": "markdown",
      "metadata": {
        "id": "I1iFSvirqItV"
      },
      "source": [
        "## Question 5\n",
        "\n",
        "**5a)** Give a summary of how a decision tree works and how it extends to random forests.\n",
        "\n",
        "**5b)** State at least one advantage and one drawback with using random forests over decision trees."
      ]
    },
    {
      "cell_type": "markdown",
      "source": [
        "**5a)** A decision tree is a widely used tool when evaluating different actions affected by previously known states/probabilities/actions. The tree splits data into different categories. Consider the choice of dinner. The first categories are, hungry not hungry. If hungry, the next categories are, cooking at home, ordering in or going to a restaurant. If the choice is ordered, the next choice categories are pizza, sushi or Indian. The structure of a decision tree can obviously be used in much more complex situations. When calculating conditional probability, a decision tree is very useful. Dice rolls are a commonly used way to visualise each step in the tree.\n",
        "\n",
        "A decision tree is easily understandable and effective with more simple problems. The model is not as useable with more complex and multi-dimensional problems, where there are more variables to consider and they can change with different actions and where regression is a possibility. \n",
        "\n",
        "Hence the model of random forest. This is a supervised machine-learning algorithm that can handle continuous variables. The basic difference from a decision tree is that it does not rely on a singular decision. It assembles randomized decisions based on several decisions and makes the final decision based on the majority. It does not search for the best prediction. Instead, it makes multiple random predictions. Thus, more diversity is attached, and prediction becomes much smoother.\n",
        "\n",
        "**5b)** One of the big advantages of using a random forest over a decision tree is the ability to evaluate a complete chain of actions, instead of every action isolated. A random forest can therefore be a useful tool to use over a longer decision-making plan, where different actions have different consequences and where variables can vary over time. \n",
        "\n",
        "One drawback of using a random forest over a decision tree is the complexity of the model and the need for programming and computers. A decision tree is easily visualised and can even be shown with just a pen and paper, provided that the problem is relatively small. "
      ],
      "metadata": {
        "id": "C4ywCCi8VANL"
      }
    },
    {
      "cell_type": "markdown",
      "metadata": {
        "id": "-yHCotQGqItV"
      },
      "source": [
        "\n",
        "# References\n",
        "Primer/text based on the following references:\n",
        "* http://www.cse.chalmers.se/~chrdimi/downloads/book.pdf\n",
        "* https://github.com/olethrosdc/ml-society-science/blob/master/notes.pdf"
      ]
    }
  ],
  "metadata": {
    "colab": {
      "provenance": [],
      "include_colab_link": true
    },
    "kernelspec": {
      "display_name": "Python 3",
      "language": "python",
      "name": "python3"
    },
    "language_info": {
      "codemirror_mode": {
        "name": "ipython",
        "version": 3
      },
      "file_extension": ".py",
      "mimetype": "text/x-python",
      "name": "python",
      "nbconvert_exporter": "python",
      "pygments_lexer": "ipython3",
      "version": "3.9.5"
    },
    "vscode": {
      "interpreter": {
        "hash": "123ec00200262563abc7db73a7df297e3839d21b30cef8aa24288688fdbde7de"
      }
    }
  },
  "nbformat": 4,
  "nbformat_minor": 0
}